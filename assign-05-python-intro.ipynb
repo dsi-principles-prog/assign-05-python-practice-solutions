{
 "cells": [
  {
   "cell_type": "markdown",
   "metadata": {},
   "source": [
    "# Assignment 5\n",
    "\n",
    "Complete all numbered questions below. The math library is required, so it is imported here:"
   ]
  },
  {
   "cell_type": "code",
   "execution_count": 1,
   "metadata": {},
   "outputs": [],
   "source": [
    "import math"
   ]
  },
  {
   "cell_type": "markdown",
   "metadata": {},
   "source": [
    "## Section 1 -- Data Structures\n",
    "\n",
    "#### Answer each of the following questions about data structures."
   ]
  },
  {
   "cell_type": "markdown",
   "metadata": {},
   "source": [
    "1. Do all the elements of a list have to be the same data type? What about tuples, dictionaries, and sets?"
   ]
  },
  {
   "cell_type": "code",
   "execution_count": 2,
   "metadata": {},
   "outputs": [
    {
     "name": "stdout",
     "output_type": "stream",
     "text": [
      "[1, 2.0, 'a'] (1, 2.0, 'a') {'k1': 1, 'k2': 2.0, 'k3': 'a'} {1, 2.0, 'a'}\n"
     ]
    }
   ],
   "source": [
    "# They can all be mixed data types. No need to answer this with a code chunk.\n",
    "L = [1,2.0,'a']\n",
    "T = (1,2.0,'a')\n",
    "D = {'k1':1,'k2':2.0,'k3':'a'}\n",
    "S = {1,2.0,'a'}\n",
    "\n",
    "print(L,T,D,S)"
   ]
  },
  {
   "cell_type": "markdown",
   "metadata": {},
   "source": [
    "2. Can a dictionary contain a list? Can a list contain a dictionary?"
   ]
  },
  {
   "cell_type": "code",
   "execution_count": 3,
   "metadata": {},
   "outputs": [
    {
     "name": "stdout",
     "output_type": "stream",
     "text": [
      "{'k1': 1, 'k2': 2.0, 'k3': [1, 2.0, 'a']} [1, 2.0, {'k1': 1, 'k2': 2.0, 'k3': 'a'}]\n"
     ]
    }
   ],
   "source": [
    "# Yes to both; prove using the lists and dictionaries defined in previous code chunk\n",
    "new_dict = {'k1':1, 'k2':2.0, 'k3':L}\n",
    "new_list = [1, 2.0, D]\n",
    "\n",
    "print(new_dict, new_list)"
   ]
  },
  {
   "cell_type": "markdown",
   "metadata": {},
   "source": [
    "3. Consider this small subset of data from the Star Wars dataset. Using the data structures you've learned, create an appropriate data structure to store this information.\n",
    "\n",
    "| name           | height | mass  | eye_color |\n",
    "|----------------|--------|-------|-----------|\n",
    "| Luke Skywalker | 172    | 77.0  | blue      |\n",
    "| C-3PO          | 167    | 75.0  | yellow    |\n",
    "| R2-D2          | 96     | 32.0  | red       |\n",
    "| Darth Vader    | 202    | 136.0 | yellow    |\n",
    "\n"
   ]
  },
  {
   "cell_type": "code",
   "execution_count": 4,
   "metadata": {},
   "outputs": [],
   "source": [
    "# Mostly just designed to get them to think about combining data types to build their own dataframes.\n",
    "# There are several ways to do this. Probably the best is a dictionary of lists:\n",
    "starwars1 = {\n",
    "            'name': ['Luke Skywalker', 'C-3PO', 'R2-D2', 'Darth Vader'],\n",
    "            'height': [172, 167, 96, 202],\n",
    "            'mass': [77.0, 75.0, 32.0, 136.0],\n",
    "            'eye_color': ['blue', 'yellow', 'red', 'yellow']\n",
    "            }\n",
    "\n",
    "starwars1\n",
    "\n",
    "# A dictionary of dictionaries could also make sense, but this doesn't fit with \"tidy data\"\n",
    "starwars1 = {\n",
    "            'Luke Skywalker': {'height': 172, 'mass': 77.0, 'eye_color': 'blue'},\n",
    "            'C-3PO': {'height': 167, 'mass': 75.0, 'eye_color': 'yellow'} \n",
    "            }\n",
    "\n",
    "# I omitted some lines here. A list of lists would also be fine."
   ]
  },
  {
   "cell_type": "markdown",
   "metadata": {},
   "source": [
    "## Section 2 - Operators"
   ]
  },
  {
   "cell_type": "markdown",
   "metadata": {},
   "source": [
    "#### 1. For x, y, z, and w (defined below), write an expression to verify that the following statements are True (write your expression such that \"True\" is returned):"
   ]
  },
  {
   "cell_type": "code",
   "execution_count": 5,
   "metadata": {},
   "outputs": [],
   "source": [
    "x = 1\n",
    "y = [1,2,3]\n",
    "z = [1,2,3]\n",
    "w = [2,3,4]"
   ]
  },
  {
   "cell_type": "markdown",
   "metadata": {},
   "source": [
    "#### (a) y and z are equal in value"
   ]
  },
  {
   "cell_type": "code",
   "execution_count": 6,
   "metadata": {},
   "outputs": [
    {
     "data": {
      "text/plain": [
       "True"
      ]
     },
     "execution_count": 6,
     "metadata": {},
     "output_type": "execute_result"
    }
   ],
   "source": [
    "y == z"
   ]
  },
  {
   "cell_type": "markdown",
   "metadata": {},
   "source": [
    "#### (b) y and z are different objects"
   ]
  },
  {
   "cell_type": "code",
   "execution_count": 7,
   "metadata": {},
   "outputs": [
    {
     "data": {
      "text/plain": [
       "True"
      ]
     },
     "execution_count": 7,
     "metadata": {},
     "output_type": "execute_result"
    }
   ],
   "source": [
    "y is not z"
   ]
  },
  {
   "cell_type": "markdown",
   "metadata": {},
   "source": [
    "#### (c) x is a member of y"
   ]
  },
  {
   "cell_type": "code",
   "execution_count": 8,
   "metadata": {},
   "outputs": [
    {
     "data": {
      "text/plain": [
       "True"
      ]
     },
     "execution_count": 8,
     "metadata": {},
     "output_type": "execute_result"
    }
   ],
   "source": [
    "x in y"
   ]
  },
  {
   "cell_type": "markdown",
   "metadata": {},
   "source": [
    "#### (d) The value of x is not in the list w."
   ]
  },
  {
   "cell_type": "code",
   "execution_count": 9,
   "metadata": {},
   "outputs": [
    {
     "data": {
      "text/plain": [
       "True"
      ]
     },
     "execution_count": 9,
     "metadata": {},
     "output_type": "execute_result"
    }
   ],
   "source": [
    "x not in w"
   ]
  },
  {
   "cell_type": "markdown",
   "metadata": {},
   "source": [
    "#### (e) x is either a member of y or a member of w."
   ]
  },
  {
   "cell_type": "code",
   "execution_count": 10,
   "metadata": {},
   "outputs": [
    {
     "data": {
      "text/plain": [
       "False"
      ]
     },
     "execution_count": 10,
     "metadata": {},
     "output_type": "execute_result"
    }
   ],
   "source": [
    "x in w or x in w"
   ]
  },
  {
   "cell_type": "markdown",
   "metadata": {},
   "source": [
    "#### (f) x is a member of y and is not a member of w."
   ]
  },
  {
   "cell_type": "code",
   "execution_count": 11,
   "metadata": {},
   "outputs": [
    {
     "data": {
      "text/plain": [
       "True"
      ]
     },
     "execution_count": 11,
     "metadata": {},
     "output_type": "execute_result"
    }
   ],
   "source": [
    "(x in y) and (x not in w)"
   ]
  },
  {
   "cell_type": "markdown",
   "metadata": {},
   "source": [
    "## Section 3 -- Control Flow"
   ]
  },
  {
   "cell_type": "markdown",
   "metadata": {},
   "source": [
    "#### 1. Create an empty list called \"L\". In a for loop, fill it with all numbers less than 100 that are divisible by 5 but not by 3. (Note : the list should not include 100)"
   ]
  },
  {
   "cell_type": "code",
   "execution_count": 12,
   "metadata": {},
   "outputs": [
    {
     "name": "stdout",
     "output_type": "stream",
     "text": [
      "[5, 10, 20, 25, 35, 40, 50, 55, 65, 70, 80, 85, 95]\n"
     ]
    }
   ],
   "source": [
    "L = []\n",
    "for i in range(100):\n",
    "    if i%5==0 and i%3!=0:\n",
    "        L.append(i)\n",
    "print(L)"
   ]
  },
  {
   "cell_type": "markdown",
   "metadata": {},
   "source": [
    "#### 2. Do the same thing, this time using a while loop. (Note : make sure you re-initialize \"L\" to be empty!)"
   ]
  },
  {
   "cell_type": "code",
   "execution_count": 13,
   "metadata": {},
   "outputs": [
    {
     "name": "stdout",
     "output_type": "stream",
     "text": [
      "[5, 10, 20, 25, 35, 40, 50, 55, 65, 70, 80, 85, 95]\n"
     ]
    }
   ],
   "source": [
    "L = []\n",
    "i = 0\n",
    "while i<100:\n",
    "    if i%5==0 and i%3!=0:\n",
    "        L.append(i)\n",
    "    i+=1\n",
    "\n",
    "print(L)"
   ]
  },
  {
   "cell_type": "markdown",
   "metadata": {},
   "source": [
    "#### 3. Do the same thing, this time using list comprehension. (Note : this time you shouldn't need to initialize L!)"
   ]
  },
  {
   "cell_type": "code",
   "execution_count": 14,
   "metadata": {},
   "outputs": [
    {
     "name": "stdout",
     "output_type": "stream",
     "text": [
      "[5, 10, 20, 25, 35, 40, 50, 55, 65, 70, 80, 85, 95]\n"
     ]
    }
   ],
   "source": [
    "L = [i for i in range(100) if i%5==0 and i%3!=0]\n",
    "print(L)"
   ]
  },
  {
   "cell_type": "markdown",
   "metadata": {},
   "source": [
    "#### 4. Make three lists L, M, and N. Using a for loop and an if-elif-else clause, fill L with all numbers 0-4 (inclusive), M with numbers 5-9 (inclusive), and N with any other numbers smaller than 15."
   ]
  },
  {
   "cell_type": "code",
   "execution_count": 15,
   "metadata": {},
   "outputs": [
    {
     "name": "stdout",
     "output_type": "stream",
     "text": [
      "[0, 1, 2, 3, 4] [5, 6, 7, 8, 9] [10, 11, 12, 13, 14]\n"
     ]
    }
   ],
   "source": [
    "L = []\n",
    "M = []\n",
    "N = []\n",
    "\n",
    "for i in range(15):\n",
    "    if i<5:\n",
    "        L.append(i)\n",
    "    elif i<10:\n",
    "        M.append(i)\n",
    "    else:\n",
    "        N.append(i)\n",
    "        \n",
    "print(L, M, N)"
   ]
  },
  {
   "cell_type": "markdown",
   "metadata": {},
   "source": [
    "## Section 4 -- List Comprehension"
   ]
  },
  {
   "cell_type": "markdown",
   "metadata": {},
   "source": [
    "#### 1. Using list comprehension, for all numbers less than 20, build a list that squares the even numbers and cubes the odd numbers."
   ]
  },
  {
   "cell_type": "code",
   "execution_count": 16,
   "metadata": {},
   "outputs": [
    {
     "name": "stdout",
     "output_type": "stream",
     "text": [
      "[0, 1, 4, 27, 16, 125, 36, 343, 64, 729, 100, 1331, 144, 2197, 196, 3375, 256, 4913, 324, 6859]\n"
     ]
    }
   ],
   "source": [
    "L = [i**2 if i%2==0 else i**3 for i in range(20)]\n",
    "print(L)"
   ]
  },
  {
   "cell_type": "markdown",
   "metadata": {},
   "source": [
    "#### 2. Rebuild the same list with list comprehension, but only perform an operation if the original number is divisible by 3 (should get [0, 27, 36, 729, 144, 3375, 324]."
   ]
  },
  {
   "cell_type": "code",
   "execution_count": 17,
   "metadata": {},
   "outputs": [
    {
     "name": "stdout",
     "output_type": "stream",
     "text": [
      "[0, 27, 36, 729, 144, 3375, 324]\n"
     ]
    }
   ],
   "source": [
    "L = [i**2 if i%2==0 else i**3 for i in range(20) if not i%3]\n",
    "print(L)"
   ]
  },
  {
   "cell_type": "markdown",
   "metadata": {},
   "source": [
    "## Section 5 -- Functions"
   ]
  },
  {
   "cell_type": "markdown",
   "metadata": {},
   "source": [
    "#### Test the following functions with L = list(range(10)) and x = 3, defined below. "
   ]
  },
  {
   "cell_type": "code",
   "execution_count": 18,
   "metadata": {},
   "outputs": [],
   "source": [
    "L = list(range(10))\n",
    "x = 3"
   ]
  },
  {
   "cell_type": "markdown",
   "metadata": {},
   "source": [
    "#### 1. Define a function that takes in a list L and a number x. Have it return a new list of only the elements of L that are divisible by x. Start simple with this function. We'll add to it below."
   ]
  },
  {
   "cell_type": "code",
   "execution_count": 19,
   "metadata": {},
   "outputs": [
    {
     "name": "stdout",
     "output_type": "stream",
     "text": [
      "[0, 3, 6, 9]\n"
     ]
    }
   ],
   "source": [
    "def divisible_by(L, x):\n",
    "    return [i for i in L if not i%x]\n",
    "\n",
    "L = list(range(10))\n",
    "x = 3\n",
    "\n",
    "N = divisible_by(L,x)\n",
    "print(N)"
   ]
  },
  {
   "cell_type": "markdown",
   "metadata": {},
   "source": [
    "#### 2. Modify this function below so that it does not return 0 in the list."
   ]
  },
  {
   "cell_type": "code",
   "execution_count": 20,
   "metadata": {},
   "outputs": [
    {
     "name": "stdout",
     "output_type": "stream",
     "text": [
      "[3, 6, 9]\n"
     ]
    }
   ],
   "source": [
    "def nonzero_divisible_by(L, x):\n",
    "    return [i for i in L if not i%x and i]\n",
    "\n",
    "L = list(range(10))\n",
    "x = 3\n",
    "\n",
    "N = nonzero_divisible_by(L,x)\n",
    "print(N)"
   ]
  },
  {
   "cell_type": "markdown",
   "metadata": {},
   "source": [
    "#### 3. This function will not work if L is not a list and x is not an integer. Redefine the function below and add a statement that checks to make sure the data types are correct."
   ]
  },
  {
   "cell_type": "code",
   "execution_count": 21,
   "metadata": {},
   "outputs": [
    {
     "data": {
      "text/plain": [
       "[3, 6, 9]"
      ]
     },
     "execution_count": 21,
     "metadata": {},
     "output_type": "execute_result"
    }
   ],
   "source": [
    "def nonzero_divisible_by(L, x):\n",
    "    if type(L) is not list:\n",
    "        raise TypeError(\"L must be list\")\n",
    "    if type(x) is not int:\n",
    "        raise TypeError(\"x must be integer\")\n",
    "        \n",
    "    return [i for i in L if not i%x and i]\n",
    "\n",
    "L = list(range(10))\n",
    "x = 3\n",
    "\n",
    "nonzero_divisible_by(L,x)\n",
    "# nonzero_divisible_by(L,0.3)\n",
    "# nonzero_divisible_by(\"h\",x)"
   ]
  },
  {
   "cell_type": "markdown",
   "metadata": {},
   "source": [
    "#### 4. Write both_na(), a function that takes two vectors of the same length and returns the number of positions that have an NA in both vectors. You'll need the math library for this part (Note: NAN is math.nan). Test the function with x1, y1 and x2, y2, defined below."
   ]
  },
  {
   "cell_type": "code",
   "execution_count": 22,
   "metadata": {},
   "outputs": [],
   "source": [
    "x1 = [math.nan, math.nan, 1, 2]\n",
    "y1 = [math.nan, 1, math.nan, 2]\n",
    "x2 = [math.nan, math.nan, 1, 2, math.nan, math.nan, 1]\n",
    "y2 = [math.nan, 1, math.nan, 2, math.nan, math.nan, 1]"
   ]
  },
  {
   "cell_type": "code",
   "execution_count": 23,
   "metadata": {},
   "outputs": [
    {
     "name": "stdout",
     "output_type": "stream",
     "text": [
      "1 3\n"
     ]
    }
   ],
   "source": [
    "def both_na(x, y):\n",
    "    if len(x)!=len(y):\n",
    "        raise ValueError(\"List lengths are not the same\")\n",
    "    L = len(x)\n",
    "    count = 0\n",
    "    for i,j in zip(x,y):\n",
    "        if math.isnan(i) and math.isnan(j):\n",
    "            count+=1\n",
    "    return(count)\n",
    "    \n",
    "x1 = [math.nan, math.nan, 1, 2]\n",
    "y1 = [math.nan, 1, math.nan, 2]\n",
    "x2 = [math.nan, math.nan, 1, 2, math.nan, math.nan, 1]\n",
    "y2 = [math.nan, 1, math.nan, 2, math.nan, math.nan, 1]\n",
    "\n",
    "print(both_na(x1,y1), both_na(x2,y2))"
   ]
  },
  {
   "cell_type": "markdown",
   "metadata": {},
   "source": [
    "#### 5. Create each of the functions as described in the space provided. Test each of the functions with the list x3, defined below."
   ]
  },
  {
   "cell_type": "code",
   "execution_count": 24,
   "metadata": {},
   "outputs": [],
   "source": [
    "x3 = [2, 5, 3, 10, 4, math.nan, math.nan]"
   ]
  },
  {
   "cell_type": "markdown",
   "metadata": {},
   "source": [
    "(a) Create a function that returns the last value in a list. Test with x3."
   ]
  },
  {
   "cell_type": "code",
   "execution_count": 25,
   "metadata": {},
   "outputs": [],
   "source": [
    "def last_val(x):\n",
    "    return x[-1]"
   ]
  },
  {
   "cell_type": "markdown",
   "metadata": {},
   "source": [
    "(b) Create a function that returns the elements at even numbered positions. Test with x3."
   ]
  },
  {
   "cell_type": "code",
   "execution_count": 26,
   "metadata": {},
   "outputs": [],
   "source": [
    "def even_pos(x):\n",
    "    return [val for i,val in enumerate(x) if not i%2]"
   ]
  },
  {
   "cell_type": "markdown",
   "metadata": {},
   "source": [
    "(c) Create a function that returns every element except the last value. Test with x3."
   ]
  },
  {
   "cell_type": "code",
   "execution_count": 27,
   "metadata": {},
   "outputs": [],
   "source": [
    "def all_but_last(x):\n",
    "    return x[:-1]"
   ]
  },
  {
   "cell_type": "markdown",
   "metadata": {},
   "source": [
    "(d) Create a function that returns only even numbers (and no missing values)."
   ]
  },
  {
   "cell_type": "code",
   "execution_count": 28,
   "metadata": {},
   "outputs": [],
   "source": [
    "def even_vals(x):\n",
    "    return [i for i in x if ((not i%2) and (not math.isnan(i)))]"
   ]
  },
  {
   "cell_type": "code",
   "execution_count": 29,
   "metadata": {},
   "outputs": [
    {
     "name": "stdout",
     "output_type": "stream",
     "text": [
      "nan\n",
      "[2, 3, 4, nan]\n",
      "[2, 5, 3, 10, 4, nan]\n",
      "[2, 10, 4]\n"
     ]
    }
   ],
   "source": [
    "# Putting test in one code chunk down here\n",
    "\n",
    "print(last_val(x3))\n",
    "print(even_pos(x3))\n",
    "print(all_but_last(x3))\n",
    "print(even_vals(x3))"
   ]
  },
  {
   "cell_type": "markdown",
   "metadata": {},
   "source": [
    "#### 6. Define a function called \"negate_evens\" that takes in a number \"x\" and returns -x if x is even or x if x is odd. Use map to apply this function to numbers 1 - 10 (inclusive) and store the results in a list."
   ]
  },
  {
   "cell_type": "code",
   "execution_count": 30,
   "metadata": {},
   "outputs": [
    {
     "name": "stdout",
     "output_type": "stream",
     "text": [
      "[1, -2, 3, -4, 5, -6, 7, -8, 9, -10]\n"
     ]
    }
   ],
   "source": [
    "def negate_evens(x):\n",
    "    if x%2:\n",
    "        return x\n",
    "    else:\n",
    "        return -x\n",
    "\n",
    "L = list(map(negate_evens, range(1,11)))\n",
    "print(L)"
   ]
  }
 ],
 "metadata": {
  "kernelspec": {
   "display_name": "Python 3",
   "language": "python",
   "name": "python3"
  },
  "language_info": {
   "codemirror_mode": {
    "name": "ipython",
    "version": 3
   },
   "file_extension": ".py",
   "mimetype": "text/x-python",
   "name": "python",
   "nbconvert_exporter": "python",
   "pygments_lexer": "ipython3",
   "version": "3.7.3"
  }
 },
 "nbformat": 4,
 "nbformat_minor": 2
}
